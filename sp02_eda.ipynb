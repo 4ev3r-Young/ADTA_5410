{
 "cells": [
  {
   "cell_type": "code",
   "execution_count": 1,
   "metadata": {},
   "outputs": [
    {
     "data": {
      "text/plain": [
       "True"
      ]
     },
     "execution_count": 1,
     "metadata": {},
     "output_type": "execute_result"
    }
   ],
   "source": [
    "# Add your own imports here\n",
    "\n",
    "\n",
    "# Do Not Edit Below the lines\n",
    "#-------------------------------------------------------------------------------------------------------------------------------------------------------------\n",
    "#-------------------------------------------------------------------------------------------------------------------------------------------------------------\n",
    "from utilities.db_tools import *\n",
    "from dotenv import load_dotenv\n",
    "load_dotenv()"
   ]
  },
  {
   "cell_type": "code",
   "execution_count": 2,
   "metadata": {},
   "outputs": [
    {
     "name": "stdout",
     "output_type": "stream",
     "text": [
      "\n",
      "First 5 Rows:\n",
      "(datetime.date(2024, 9, 16), 229.3000030517578, 229.9600067138672, 223.52999877929688, 226.77999877929688, 226.77999877929688, 54323000, 0.0, 1)\n",
      "(datetime.date(2024, 9, 17), 229.4499969482422, 234.57000732421875, 226.5500030517578, 227.8699951171875, 227.8699951171875, 66761600, -0.006194412708282471, 2)\n",
      "(datetime.date(2024, 9, 18), 230.08999633789062, 235.67999267578125, 226.8800048828125, 227.1999969482422, 227.1999969482422, 78010200, -0.7817120999097824, 4)\n",
      "(datetime.date(2024, 9, 19), 234.0, 244.24000549316406, 232.1300048828125, 243.9199981689453, 243.9199981689453, 102694600, -0.9935905933380127, 2)\n",
      "(datetime.date(2024, 9, 20), 241.52000427246094, 243.99000549316406, 235.9199981689453, 238.25, 238.25, 99879100, -0.9573685526847839, 1)\n"
     ]
    }
   ],
   "source": [
    "#-------------------------------------------------------------------------------------------------------------------------------------------------------------\n",
    "# Fetch the first 5 rows\n",
    "print(\"\\nFirst 5 Rows:\")\n",
    "data_query = \"SELECT * FROM training_data LIMIT 5;\"\n",
    "read_query(data_query)"
   ]
  },
  {
   "cell_type": "code",
   "execution_count": 3,
   "metadata": {},
   "outputs": [
    {
     "name": "stdout",
     "output_type": "stream",
     "text": [
      "\n",
      "Table Schema:\n",
      "('date', 'date')\n",
      "('open', 'double precision')\n",
      "('high', 'double precision')\n",
      "('low', 'double precision')\n",
      "('close', 'double precision')\n",
      "('adj_close', 'double precision')\n",
      "('volume', 'bigint')\n",
      "('sentiment_score', 'double precision')\n",
      "('sentiment_count', 'integer')\n"
     ]
    }
   ],
   "source": [
    "print(\"\\nTable Schema:\")\n",
    "schema_query = \"\"\"\n",
    "SELECT column_name, data_type \n",
    "FROM information_schema.columns \n",
    "WHERE table_name = 'training_data';\n",
    "\"\"\"\n",
    "read_query(schema_query)\n",
    "# conn.close()"
   ]
  },
  {
   "cell_type": "code",
   "execution_count": null,
   "metadata": {},
   "outputs": [],
   "source": [
    "# drop_table_query = \"DROP TABLE IF EXISTS training_data;\"\n",
    "# write_query(drop_table_query)"
   ]
  },
  {
   "cell_type": "code",
   "execution_count": 5,
   "metadata": {},
   "outputs": [
    {
     "name": "stdout",
     "output_type": "stream",
     "text": [
      "(True,)\n"
     ]
    }
   ],
   "source": [
    "# Check if the table exists\n",
    "check_query = \"\"\"\n",
    "SELECT EXISTS (\n",
    "    SELECT 1 \n",
    "    FROM information_schema.tables \n",
    "    WHERE table_name = 'training_data'\n",
    ");\n",
    "\"\"\"\n",
    "read_query(check_query)"
   ]
  }
 ],
 "metadata": {
  "kernelspec": {
   "display_name": ".venv",
   "language": "python",
   "name": "python3"
  },
  "language_info": {
   "codemirror_mode": {
    "name": "ipython",
    "version": 3
   },
   "file_extension": ".py",
   "mimetype": "text/x-python",
   "name": "python",
   "nbconvert_exporter": "python",
   "pygments_lexer": "ipython3",
   "version": "3.11.9"
  }
 },
 "nbformat": 4,
 "nbformat_minor": 2
}
