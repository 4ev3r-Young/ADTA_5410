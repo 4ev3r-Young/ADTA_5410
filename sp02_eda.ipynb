{
 "cells": [
  {
   "cell_type": "code",
   "execution_count": null,
   "metadata": {},
   "outputs": [],
   "source": []
  },
  {
   "cell_type": "code",
   "execution_count": null,
   "metadata": {},
   "outputs": [],
   "source": [
    "'''\n",
    "I'm saving the output from an api call into a .csv to reduce the number of calls to the api during development.\n",
    "Then loading it back in to a dataframe.\n",
    "'''\n",
    "\n",
    "#-------------------------------------------------------------------------------------------------------------------------------------------------------------\n",
    "data = correct_file_path(\"data/Tesla_articles.csv\")\n",
    "sentiment_df = filetype(data)"
   ]
  }
 ],
 "metadata": {
  "language_info": {
   "name": "python"
  }
 },
 "nbformat": 4,
 "nbformat_minor": 2
}
